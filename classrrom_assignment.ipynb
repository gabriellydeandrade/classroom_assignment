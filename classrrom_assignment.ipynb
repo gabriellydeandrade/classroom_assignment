{
 "cells": [
  {
   "cell_type": "markdown",
   "metadata": {},
   "source": [
    "# Classroom Assignment: Estudo de caso para alocação de salas de aula"
   ]
  },
  {
   "cell_type": "markdown",
   "metadata": {},
   "source": [
    "## Fase 2: Alocação de turmas em salas de aula"
   ]
  },
  {
   "cell_type": "markdown",
   "metadata": {},
   "source": [
    "Objetivo:\n",
    "- Maximizar a quantidade de salas alocadas e o número de restrições fracas atendidas"
   ]
  },
  {
   "cell_type": "markdown",
   "metadata": {},
   "source": [
    "### Modelagem"
   ]
  },
  {
   "cell_type": "markdown",
   "metadata": {},
   "source": [
    "Conjuntos:\n",
    "\n",
    "- $C$: Conjunto de salas de aula disponíveis ($c \\in C$)\n",
    "- $Cap_c$: Conjunto de capacidade das salas ($Cap_c \\in C$)\n",
    "- $CT$: Conjunto de tipo de sala disponível ($CT \\in C$)\n",
    "- $CRI$: Conjunto de instituto responsável pela sala ($CRI \\in C$). Acrônimo para Classroom Responsable Institute.\n",
    "- $S$: Conjunto de turmas (s = section) que necessitam de alocação de sala ($s \\in S$)\n",
    "- $SCT$: Conjunto de tipo de sala requerida associado a uma turma ($SCT \\in CT$). Acrônimo para Section Classrrom-Type.\n",
    "- $SRI$: Conjunto de instituto responsável requerida associado a uma turma ($SCT \\in CT$). Acrônimo para Section Responsable Institute.\n",
    "- $SCap_c$: Conjunto de capacidade requerida associado a uma turma ($SCap_c \\in CAP_c$). Acrônimo para Section capacity.\n",
    "- $T_c$: Conjunto de horários (T = Time) das disciplinas ($t \\in T_c \\in C$)\n",
    "- $D_c$: Conjunto de dias da semana (D = Day) das disciplinas ($d \\in D_c \\in C$)\n",
    "- $S_t$: Subconjunto de turmas que terão seções no horário t ($t \\in T_c , S_t \\in S$)\n",
    "- $S_{d}$: Subconjunto de turmas que terão seções no dia da semana d ($d \\in D, S_d \\in S$)"
   ]
  },
  {
   "cell_type": "markdown",
   "metadata": {},
   "source": [
    "#### Variáveis\n",
    "\n",
    "1) Alocação de turma em sala de aula\n",
    "\n",
    "\n",
    "$$\n",
    "X_{c,s,d,t} \\in (0,1) =\n",
    "\n",
    "\\begin{cases}\n",
    "1 &  \\quad \\text{se a sala de aula c for alocada para a turma s para um dia d e um horário t}\\\\ \n",
    "0 & \\quad \\text{caso contrário} \n",
    "\\end{cases}\n",
    "\n",
    "$$\n",
    "\n",
    "$$\n",
    "c \\in C, s \\in S, d \\in D_c, t \\in T_c\n",
    "$$\n",
    "\n",
    "2. Variável de folga (slack variable) que indica a capacidade excedida de lugares que a sala de aula teve ao ter uma turma alocada \n",
    "\n",
    "$$\n",
    "PNC_{c} \\in \\Z \\quad c \\in C\n",
    "$$ \n"
   ]
  },
  {
   "cell_type": "markdown",
   "metadata": {},
   "source": [
    "#### Coeficientes\n",
    "\n",
    "Considerando \n",
    "\n",
    "$$\n",
    "    c \\in C, s \\in S, d \\in D_c, t \\in T_c\n",
    "$$\n",
    "\n",
    "temos que:\n",
    "\n",
    "\n",
    "1) Coeficiente de alocação na sala de aula\n",
    "\n",
    "    1.1) Sala requerida é a mesma da sala alocada\n",
    "\n",
    "\n",
    "    1.2) Sala requerida é a mesma da turma a ser alocada E a sala requerida tem o mesmo instituto responsável da turma a ser alocada\n",
    "\n",
    "    Assim,\n",
    "\n",
    "    $$\n",
    "\n",
    "    f_{c,s,d,t} \\in (0,1) = \n",
    "\n",
    "    \\begin{cases}\n",
    "    10 &  \\quad sct_s = ct_c \\wedge sri_s = cri_c\\\\ \n",
    "    1 &  \\quad sct_s = ct_c\\\\ \n",
    "    0 & \\quad \\text{caso contrário}\n",
    "    \\end{cases}\n",
    "\n",
    "    \\quad sct_c \\in SCT, ct \\in CT\n",
    "    $$\n",
    "\n",
    "    > Considerando os tipos de salas disponíveis (Anfiteatro, Laboratório, Sala) e o tipo de sala requerido (teórica ou prática), garante que a alocação seja equivalente\n",
    "\n",
    "\n",
    "2) Fator de penalidade no caso da sala de aula exceda a capacidade requerida na alocação de uma turma \n",
    "\n",
    "$$\n",
    "    Wc = 1000\n",
    "$$\n",
    "\n"
   ]
  },
  {
   "cell_type": "markdown",
   "metadata": {},
   "source": [
    "### Função objetivo\n",
    "\n",
    "Maximizar a performance acadêmica (EAP, professor habilitado em dar a disciplina) \n",
    "<!-- e o número de restrições fracas atendidas -->\n",
    "\n",
    "$$\n",
    "MAX \\sum_{c \\in C}\\sum_{s \\in S}\\sum_{d \\in D}\\sum_{t \\in T} f_{c,s,d,t}X_{c,s,d,t} - Wc \\sum_{c \\in C} PNC_{c}\n",
    "$$\n",
    "\n",
    "$$\n",
    "    c \\in C, s \\in S, d \\in D_c, t \\in T_c\n",
    "$$"
   ]
  },
  {
   "cell_type": "markdown",
   "metadata": {},
   "source": [
    "### Restrições"
   ]
  },
  {
   "cell_type": "markdown",
   "metadata": {},
   "source": [
    "### Restrições fracas\n",
    "\n",
    "RF1: Garante que a sala seja alocada mesmo se exceder a capacidade da sala. Não inviabiliza o modelo. \n",
    "\n",
    "\n",
    "$$\n",
    "\\sum_{c \\in C} SCap_c X_{c,s,d,t} \\leq Cap_{c} + PNC_{c} \\quad c \\in C\n",
    "$$\n"
   ]
  },
  {
   "cell_type": "markdown",
   "metadata": {},
   "source": [
    "##### Restrições fortes\n",
    "\n",
    "RH1: Um sala poderá ser alocada para no máximo 1 uma turma em um mesmo dia e horário (binário)\n",
    "\n",
    "\n",
    "$$\n",
    "\\sum_{c \\in C}\\sum_{s \\in (S_t \\cap S_{d})} X_{c,s,d,t} \\leq 1  \\quad d \\in D_c, t \\in T_c \n",
    "$$\n",
    "\n",
    "RH2: Uma seção deverá ter somente uma sala de aula\n",
    "\n",
    "$$\n",
    "\\sum_{c \\in C} X_{c,s,d,t} = 1  \\quad d \\in D_c, t \\in T_c \n",
    "$$\n",
    "\n",
    "\n",
    "\n"
   ]
  },
  {
   "cell_type": "markdown",
   "metadata": {},
   "source": []
  }
 ],
 "metadata": {
  "kernelspec": {
   "display_name": ".venv",
   "language": "python",
   "name": "python3"
  },
  "language_info": {
   "codemirror_mode": {
    "name": "ipython",
    "version": 3
   },
   "file_extension": ".py",
   "mimetype": "text/x-python",
   "name": "python",
   "nbconvert_exporter": "python",
   "pygments_lexer": "ipython3",
   "version": "3.9.6"
  }
 },
 "nbformat": 4,
 "nbformat_minor": 2
}
