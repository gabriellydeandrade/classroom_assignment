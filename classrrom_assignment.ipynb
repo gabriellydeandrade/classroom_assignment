{
 "cells": [
  {
   "cell_type": "markdown",
   "metadata": {},
   "source": [
    "# Classroom Assignment: Case Study for Classroom Allocation"
   ]
  },
  {
   "cell_type": "markdown",
   "metadata": {},
   "source": [
    "## Phase 2: Allocation of Classes in Classroom"
   ]
  },
  {
   "cell_type": "markdown",
   "metadata": {},
   "source": [
    "Objective:\n",
    "- Maximize the number of allocated rooms and the number of weak constraints met"
   ]
  },
  {
   "cell_type": "markdown",
   "metadata": {},
   "source": [
    "## Mathematical Formulation"
   ]
  },
  {
   "cell_type": "markdown",
   "metadata": {},
   "source": [
    "### Notation\n",
    "\n",
    "- **$S$**: Set of available classrooms (eq. \\ref{eq:conj_salas})  \n",
    "- **$SQN$**: Set of classrooms that have a blackboard (eq. \\ref{eq:conj_sala_quadroNegro})  \n",
    "- **$SEC$**: Set of sessions that require classroom allocation (eq. \\ref{eq:conj_sessoes})  \n",
    "- **$SecTipo_{sec}$**: Set containing the types of classrooms required by the session (eq. \\ref{eq:conj_sessao_tipo_sala})  \n",
    "- **$SecCal$**: Set of sessions containing freshman classes (eq. \\ref{eq:conj_sec_calouro})  \n",
    "- **$SecQN$**: Set of sessions with a blackboard resource restriction (eq. \\ref{eq:conj_sessao_quadro})  \n",
    "- **$Sec_d$**: Subset of sessions that take place on weekday $d$ (eq. \\ref{eq:conj_Sec_d})  \n",
    "- **$Sec_h$**: Subset of sessions that take place at time $h$ (eq. \\ref{eq:conj_Sec_h})  \n"
   ]
  },
  {
   "cell_type": "markdown",
   "metadata": {},
   "source": [
    "### Variables\n",
    "\n",
    "Considering\n",
    "\n",
    "$$\n",
    "s \\in S, sec \\in SEC, (d,h)\\in TS_{tid}, tid = \\pi_{tid}(sec)\n",
    "$$\n",
    "\n",
    "1. Decision variable $X_{s,tid,d,h}$ that determines the allocation of teacher/subject (session) in a classroom:\n",
    "\n",
    "$$\n",
    "X_{s,tid,d,h} \\in (0,1)  =\n",
    "\\begin{cases}\n",
    "1 &  \\quad \\text{if room $s$ is allocated to session $tid$ for the timeslot $(d,h) \\in TS_{tid}$}\\\\ \n",
    "0 & \\quad \\text{otherwise} \n",
    "\\end{cases}\n",
    "$$\n",
    "\n",
    "2. Slack variable $CapDiff_{s,sec}$ that ensures the allocation of the class is as close as possible to the room capacity (minimizing the difference between capacities):\n",
    "\n",
    "$$\n",
    "CapDiff_{s,sec} \\in \\mathbb{Z}_{+}\n",
    "$$ \n",
    "\n",
    "3. Slack variable $TolVar$ for tolerance, allowing a small margin of error in the constraints:\n",
    "\n",
    "$$\n",
    "TolVar \\in \\mathbb{R}_{+}\n",
    "$$ \n",
    "\n",
    "It relates to the constraint\n",
    "\n",
    "$$\n",
    "TolVar \\leq 1 \\times 10^{-6}\n",
    "$$ \n",
    "\n",
    "> The variable $TolVar$ was adopted due to the difficulty of ensuring that the allocated room has the smallest possible difference between the requested and available capacity. The difference between capacities (required and allocated) is an integer value, but in practice, an infeasibility problem occurred due to numerical errors. Based on experiments, a tolerance of \\( 1 \\times 10^{-6} \\) was defined, ensuring that rooms were allocated with the smallest possible capacity difference."
   ]
  },
  {
   "cell_type": "markdown",
   "metadata": {},
   "source": [
    "### Coefficients\n",
    "\n",
    "The coefficients are values that act as weights in the objective function variables. These weights were defined experimentally. Priority is given to allocating a room belonging to the same institute responsible for the session. Thus, if the session $(sec)$ is associated with the same institute responsible for the room $(s)$, the weight will be 100. Otherwise, the standard coefficient value of 10 is applied.\n",
    "\n",
    "$$\n",
    "f_{s,sec} = \n",
    "\\begin{cases}\n",
    "100 &  \\quad \\text{if } SecIR_{sec} = IR_{s}\\\\ \n",
    "10 & \\quad \\text{otherwise}\n",
    "\\end{cases}\n",
    "$$"
   ]
  },
  {
   "cell_type": "markdown",
   "metadata": {},
   "source": [
    "### Objective Function\n",
    "\n",
    "Maximize the number of weak constraints met, penalizing cases where the room allocation is not done in the most appropriate way. Thus, for each room allocated to a session that exceeds the required number of people, there will be a decrease in the objective function value. Since the function seeks maximization, whenever possible, this weak constraint will be met.\n",
    "\n",
    "$$\n",
    "MAX \\sum_{s \\in S}\\sum_{sec \\in SEC}\\sum_{(d,h) \\in TS_{tid}} f_{s,tid,d,h}X_{s,tid,d,h} - \\sum_{s \\in S}\\sum_{sec \\in SEC} CapDiff_{s,sec} * X_{s,tid,d,h}\n",
    "$$"
   ]
  },
  {
   "cell_type": "markdown",
   "metadata": {},
   "source": [
    "## Constraints"
   ]
  },
  {
   "cell_type": "markdown",
   "metadata": {},
   "source": [
    "### Weak Constraints\n",
    "\n",
    "**RNG1 (General Business Rule 1)**: Ensures that the required capacity for the session is allocated as close as possible to the actual room capacity, ensuring that the space is used as efficiently as possible.\n",
    "\n",
    "$$\n",
    "\\sum_{s \\in S} \\sum_{sec \\in SEC} CapDiff_{s,sec} \\leq Cap_{s} - Vag_{sec} * X_{s,tid,d,h} + TolVar\n",
    "$$\n",
    "\n",
    "> The logic of function describes that the capacity should be close, assuming a constant that will perform an error tolerance (\\textit{TolVar}). The value of \\textit{TolVar} is set by default to 1e-6."
   ]
  },
  {
   "cell_type": "markdown",
   "metadata": {},
   "source": [
    "### Hard Constraints\n",
    "\n",
    "**RNG2**: A room $(s)$ can be allocated to at most one session $(sec)$ on the same day $(d)$ and time $(h)$.\n",
    "\n",
    "$$\n",
    "\\sum_{s \\in S}\\sum_{sec \\in (Sec_h \\cap Sec_d)} X_{s,tid,d,h} \\leq 1  \\quad (d,h) \\in TS_{tid}, tid = \\pi_{tid}(sec)\n",
    "$$\n",
    "\n",
    "**RNG3**: A session $(sec)$ should have only one classroom $(s)$ assigned. Sessions, by definition, already include a specific day and time.\n",
    "\n",
    "$$\n",
    "\\sum_{sec \\in SEC}\\sum_{s \\in S} X_{s,tid,d,h} = 1  \\quad (d,h) \\in TS_{tid}, tid = \\pi_{tid}(sec)\n",
    "$$\n",
    "\n",
    "**RNP1 (Specific Business Rule 1)**:\n",
    "The type of room allocated for each session must correspond to the requested type (e.g., Theoretical, Practical). The order in which room types are allocated is not mandatory and may vary according to availability, as long as the total number of all requested types is met.\n",
    "\n",
    "$$\n",
    "\\sum_{sec \\in SEC}\\sum_{s \\in S} X_{s,tid,d,h} = |\\{st \\in SecTipo_{sec} \\mid st = P\\}| \\quad \\text{where } STipo_{s} = st, (d,h) \\in TS_{tid}, tid = \\pi_{tid}(sec)\n",
    "$$\n",
    "\n",
    "$$\n",
    "\\sum_{sec \\in SEC}\\sum_{s \\in S} X_{s,tid,d,h} = |\\{st \\in SecTipo_{sec} \\mid st = T\\}| \\quad \\text{where } STipo_{s} = st, (d,h) \\in TS_{tid}, tid = \\pi_{tid}(sec)\n",
    "$$\n",
    "\n",
    "Fixing a specific session $sec$, the number of each required room type must be equal to the number of rooms being allocated. Equation describes that the number of practical (P) rooms should be the same as requested. Equation refers to the number of theoretical (T) rooms.\n",
    "\n",
    "**RNP2**: If the session is for a freshman class, a specific room must be designated for theoretical classes (F3014).\n",
    "\n",
    "$$\n",
    "\\sum_{sec \\in SR_r} X_{\\text{F3014},tid,d,h} = |\\{st \\in SecTipo_{sec} \\mid st = T\\}|, \\quad \\text{where } (d,h) \\in TS_{tid}, tid = \\pi_{tid}(sec)\n",
    "$$\n",
    "\n",
    "Since we are dealing with the allocation of a specific room (F3014), whose category is previously known as theoretical (T), the number of sessions allocated to theoretical rooms must correspond to the number of required sessions.\n",
    "\n",
    "**RNP3**: If the session has a blackboard restriction, do not allocate it to a room that has this type of resource.\n",
    "\n",
    "$$\n",
    "\\sum_{sec \\in SecQN}\\sum_{s \\in SQN} X_{s,tid,d,h} = 0  \\quad (d,h) \\in TS_{tid}, tid = \\pi_{tid}(sec)\n",
    "$$"
   ]
  },
  {
   "cell_type": "markdown",
   "metadata": {},
   "source": [
    "\n",
    "\n",
    "### Final Formulation\n",
    "\n",
    "Combining the formulation, we obtain the mathematical modeling as per, expressed by equation. It is observed that, from the problem definition, the final modeling results in an MIQP model, as discussed in Section. The quadratic term appears in the objective function, characterizing it as a non-linear problem. The constraints are linear. Regarding the variables, there is a real tolerance slack variable ($TolVar$), while the others are integers, characterizing the problem as mixed.\n",
    "\n",
    "$$\n",
    "\\begin{aligned}\n",
    "& \\text{MAX} \\sum_{s \\in S}\\sum_{sec \\in SEC}\\sum_{d \\in D_s}\\sum_{h \\in T_s} f_{s,tid,d,h}X_{s,tid,d,h} - \\sum_{s \\in S}\\sum_{sec \\in SEC} CapDiff_{s,sec} * X_{s,tid,d,h}\\\\ \\\\\n",
    "& \\text{Subject to:} \\\\\n",
    "& \\sum_{s \\in S} \\sum_{sec \\in SEC} CapDiff_{s,sec} \\leq Cap_{s} - Vag_{sec} * X_{s,tid,d,h} + TolVar, \\quad TolVar \\leq 1 \\times 10^{-6} \\\\\n",
    "& \\sum_{s \\in S}\\sum_{sec \\in (Sec_h \\cap Sec_d)} X_{s,tid,d,h} \\leq 1 \\\\\n",
    "& \\sum_{sec \\in SEC}\\sum_{s \\in S} X_{s,tid,d,h} = 1  \\\\\n",
    "& \\sum_{sec \\in SEC}\\sum_{s \\in S} X_{s,tid,d,h} = |\\{st \\in SecTipo_{sec} \\mid st = P\\}| \\quad \\text{where } STipo_{s} = st \\\\\n",
    "& \\sum_{sec \\in SEC}\\sum_{s \\in S} X_{s,tid,d,h} = |\\{st \\in SecTipo_{sec} \\mid st = T\\}| \\quad \\text{where } STipo_{s} = st \\\\\n",
    "& \\sum_{sec \\in SR_r} X_{\\text{F3014},tid,d,h} = |\\{st \\in SecTipo_{sec} \\mid st = T\\}| \\\\\n",
    "& \\sum_{sec \\in SecQN}\\sum_{s \\in SQN} X_{s,tid,d,h} = 0  \\\\\n",
    "& f_{s,sec} = \n",
    "\\begin{cases}\n",
    "100 &  \\quad \\text{if } SecIR_{sec} = IR_{s}\\\\ \n",
    "10 & \\quad \\text{otherwise}\n",
    "\\end{cases} \\\\\n",
    "&  \\quad X_{s,tid,d,h} \\in \\{0, 1\\}, \\quad \\forall s \\in S, sec \\in SEC, (d,h) \\in TS_{tid}, tid = \\pi_{tid}(sec)\n",
    "\\end{aligned}\n",
    "$$"
   ]
  }
 ],
 "metadata": {
  "kernelspec": {
   "display_name": ".venv",
   "language": "python",
   "name": "python3"
  },
  "language_info": {
   "codemirror_mode": {
    "name": "ipython",
    "version": 3
   },
   "file_extension": ".py",
   "mimetype": "text/x-python",
   "name": "python",
   "nbconvert_exporter": "python",
   "pygments_lexer": "ipython3",
   "version": "3.9.6"
  }
 },
 "nbformat": 4,
 "nbformat_minor": 2
}
